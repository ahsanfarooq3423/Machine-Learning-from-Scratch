{
 "cells": [
  {
   "cell_type": "code",
   "execution_count": 50,
   "metadata": {},
   "outputs": [],
   "source": [
    "import numpy as np\n",
    "import pandas as pd\n"
   ]
  },
  {
   "cell_type": "code",
   "execution_count": 51,
   "metadata": {},
   "outputs": [
    {
     "data": {
      "text/plain": [
       "'/Users/ahsan/Documents/Study/Datasets/Bike-Sharing-Dataset'"
      ]
     },
     "execution_count": 51,
     "metadata": {},
     "output_type": "execute_result"
    }
   ],
   "source": [
    "import os\n",
    "os.getcwd()\n",
    "os.chdir('/Users/ahsan/Documents/Study/Datasets/Bike-Sharing-Dataset')\n",
    "os.getcwd()"
   ]
  },
  {
   "cell_type": "code",
   "execution_count": 52,
   "metadata": {},
   "outputs": [],
   "source": [
    "data = pd.read_csv('day.csv')"
   ]
  },
  {
   "cell_type": "code",
   "execution_count": 55,
   "metadata": {},
   "outputs": [],
   "source": [
    "hour = pd.read_csv('hour.csv')"
   ]
  },
  {
   "cell_type": "code",
   "execution_count": 179,
   "metadata": {},
   "outputs": [],
   "source": [
    "y = data['cnt']\n",
    "x = data['registered']\n",
    "len(x) == len(y)\n",
    "x = x.tolist()\n",
    "y = y.tolist()"
   ]
  },
  {
   "cell_type": "code",
   "execution_count": 180,
   "metadata": {},
   "outputs": [
    {
     "data": {
      "text/plain": [
       "array([14124846243])"
      ]
     },
     "execution_count": 180,
     "metadata": {},
     "output_type": "execute_result"
    }
   ],
   "source": [
    "np.correlate(x,y)"
   ]
  },
  {
   "cell_type": "markdown",
   "metadata": {},
   "source": [
    "# Linear Regression Cost Function"
   ]
  },
  {
   "cell_type": "code",
   "execution_count": 235,
   "metadata": {},
   "outputs": [],
   "source": [
    "theta1 = 0.25\n",
    "theta0 = 1\n",
    "#defining my assumed hypothesis function"
   ]
  },
  {
   "cell_type": "code",
   "execution_count": 236,
   "metadata": {},
   "outputs": [
    {
     "data": {
      "text/plain": [
       "4102752250529.1875"
      ]
     },
     "execution_count": 236,
     "metadata": {},
     "output_type": "execute_result"
    }
   ],
   "source": [
    "sum = 0\n",
    "for i in range(len(y)):\n",
    "    sum += (theta0+theta1*x[i] - y[i])**2\n",
    "    \n",
    "costvalue = sum/2*len(y)\n",
    "\n",
    "costvalue"
   ]
  },
  {
   "cell_type": "code",
   "execution_count": 215,
   "metadata": {},
   "outputs": [],
   "source": [
    "#Defining the learning Rate\n",
    "alpha = 0.0000001"
   ]
  },
  {
   "cell_type": "code",
   "execution_count": 237,
   "metadata": {},
   "outputs": [],
   "source": [
    "#x = [1,2,3,4,5,6,7,8,9,10]\n",
    "#y = [2.5,3,3.5,4,4.5,5,5.5,6,6.5,7]\n"
   ]
  },
  {
   "cell_type": "code",
   "execution_count": 238,
   "metadata": {},
   "outputs": [],
   "source": [
    "theta0 = 0\n",
    "theta1 = 0"
   ]
  },
  {
   "cell_type": "code",
   "execution_count": 239,
   "metadata": {},
   "outputs": [],
   "source": [
    "\n",
    "def theta_zero():\n",
    "    sum = 0\n",
    "    for i in range(len(y)):\n",
    "        sum += (theta0 + theta1 * x[i]) - y[i]\n",
    "    return sum"
   ]
  },
  {
   "cell_type": "code",
   "execution_count": 240,
   "metadata": {},
   "outputs": [],
   "source": [
    "def theta_one():\n",
    "    sum = 0 \n",
    "    for i in range(len(y)):\n",
    "        sum += ((theta0 + theta1 * x[i]) - y[i])*x[i]\n",
    "        \n",
    "    return sum\n",
    "        "
   ]
  },
  {
   "cell_type": "code",
   "execution_count": 247,
   "metadata": {},
   "outputs": [],
   "source": [
    "temp0 = -1\n",
    "temp1 = -1\n",
    "\n",
    "temp_theta0 = -100\n",
    "temp_theta1 = -100\n",
    "\n",
    "for i in range(100):\n",
    "    if (theta0 == temp_theta0 and theta1 == temp_theta1):\n",
    "        print('Break at iteration: ' + str(i))\n",
    "        break\n",
    "    else:\n",
    "        temp_theta0 = theta0\n",
    "        temp_theta1 = theta1\n",
    "        \n",
    "        temp0 = theta0 - (alpha) * (1/len(y)) * theta_zero()\n",
    "        temp1 = theta1 - (alpha) * (1/len(y)) * theta_one()\n",
    "    \n",
    "        theta0 = temp0\n",
    "        theta1 = temp1\n",
    "        \n",
    "    \n",
    "    \n",
    "    "
   ]
  },
  {
   "cell_type": "code",
   "execution_count": 248,
   "metadata": {
    "scrolled": true
   },
   "outputs": [
    {
     "name": "stdout",
     "output_type": "stream",
     "text": [
      "0.04032806869806249\n",
      "0.25229046161829133\n"
     ]
    }
   ],
   "source": [
    "print(theta0)\n",
    "print(theta1)"
   ]
  },
  {
   "cell_type": "code",
   "execution_count": null,
   "metadata": {},
   "outputs": [],
   "source": []
  }
 ],
 "metadata": {
  "kernelspec": {
   "display_name": "Python 3",
   "language": "python",
   "name": "python3"
  },
  "language_info": {
   "codemirror_mode": {
    "name": "ipython",
    "version": 3
   },
   "file_extension": ".py",
   "mimetype": "text/x-python",
   "name": "python",
   "nbconvert_exporter": "python",
   "pygments_lexer": "ipython3",
   "version": "3.7.3"
  }
 },
 "nbformat": 4,
 "nbformat_minor": 2
}
