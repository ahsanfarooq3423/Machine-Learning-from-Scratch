{
 "cells": [
  {
   "cell_type": "code",
   "execution_count": 245,
   "metadata": {},
   "outputs": [],
   "source": [
    "import numpy as np\n",
    "import pandas as pd"
   ]
  },
  {
   "cell_type": "code",
   "execution_count": 246,
   "metadata": {},
   "outputs": [
    {
     "data": {
      "text/plain": [
       "'/Users/ahsan/Documents/Coursera/machine-learning-ex/ex1'"
      ]
     },
     "execution_count": 246,
     "metadata": {},
     "output_type": "execute_result"
    }
   ],
   "source": [
    "import os\n",
    "os.getcwd()\n",
    "os.chdir('/Users/ahsan/Documents/Coursera/machine-learning-ex/ex1')\n",
    "os.getcwd()"
   ]
  },
  {
   "cell_type": "code",
   "execution_count": 247,
   "metadata": {},
   "outputs": [],
   "source": [
    "data1 = pd.read_csv('ex1data1.txt')"
   ]
  },
  {
   "cell_type": "code",
   "execution_count": 248,
   "metadata": {},
   "outputs": [],
   "source": [
    "data1.columns = ['Size', 'Price']"
   ]
  },
  {
   "cell_type": "code",
   "execution_count": 249,
   "metadata": {},
   "outputs": [],
   "source": [
    "data2 = pd.read_csv('ex1data2.txt')\n",
    "data2.columns = ['Size', 'Bedrooms', 'Price']"
   ]
  },
  {
   "cell_type": "code",
   "execution_count": 250,
   "metadata": {
    "scrolled": true
   },
   "outputs": [
    {
     "data": {
      "text/html": [
       "<div>\n",
       "<style scoped>\n",
       "    .dataframe tbody tr th:only-of-type {\n",
       "        vertical-align: middle;\n",
       "    }\n",
       "\n",
       "    .dataframe tbody tr th {\n",
       "        vertical-align: top;\n",
       "    }\n",
       "\n",
       "    .dataframe thead th {\n",
       "        text-align: right;\n",
       "    }\n",
       "</style>\n",
       "<table border=\"1\" class=\"dataframe\">\n",
       "  <thead>\n",
       "    <tr style=\"text-align: right;\">\n",
       "      <th></th>\n",
       "      <th>Size</th>\n",
       "      <th>Price</th>\n",
       "    </tr>\n",
       "  </thead>\n",
       "  <tbody>\n",
       "    <tr>\n",
       "      <th>0</th>\n",
       "      <td>5.5277</td>\n",
       "      <td>9.1302</td>\n",
       "    </tr>\n",
       "    <tr>\n",
       "      <th>1</th>\n",
       "      <td>8.5186</td>\n",
       "      <td>13.6620</td>\n",
       "    </tr>\n",
       "    <tr>\n",
       "      <th>2</th>\n",
       "      <td>7.0032</td>\n",
       "      <td>11.8540</td>\n",
       "    </tr>\n",
       "    <tr>\n",
       "      <th>3</th>\n",
       "      <td>5.8598</td>\n",
       "      <td>6.8233</td>\n",
       "    </tr>\n",
       "    <tr>\n",
       "      <th>4</th>\n",
       "      <td>8.3829</td>\n",
       "      <td>11.8860</td>\n",
       "    </tr>\n",
       "  </tbody>\n",
       "</table>\n",
       "</div>"
      ],
      "text/plain": [
       "     Size    Price\n",
       "0  5.5277   9.1302\n",
       "1  8.5186  13.6620\n",
       "2  7.0032  11.8540\n",
       "3  5.8598   6.8233\n",
       "4  8.3829  11.8860"
      ]
     },
     "execution_count": 250,
     "metadata": {},
     "output_type": "execute_result"
    }
   ],
   "source": [
    "data1.head()"
   ]
  },
  {
   "cell_type": "code",
   "execution_count": 251,
   "metadata": {},
   "outputs": [
    {
     "name": "stdout",
     "output_type": "stream",
     "text": [
      "(96, 2)\n",
      "(96,)\n"
     ]
    }
   ],
   "source": [
    "X = np.ones(shape=(len(data1), 2))\n",
    "X[:,1] = data1['Size']\n",
    "y = data1.values\n",
    "y = y[:,1]\n",
    "print(X.shape)\n",
    "print(y.shape)"
   ]
  },
  {
   "cell_type": "code",
   "execution_count": 252,
   "metadata": {},
   "outputs": [
    {
     "data": {
      "text/plain": [
       "(2,)"
      ]
     },
     "execution_count": 252,
     "metadata": {},
     "output_type": "execute_result"
    }
   ],
   "source": [
    "theta = np.array([0,0])\n",
    "theta\n",
    "theta.shape"
   ]
  },
  {
   "cell_type": "code",
   "execution_count": 253,
   "metadata": {
    "scrolled": true
   },
   "outputs": [
    {
     "data": {
      "text/plain": [
       "5912.6319082264"
      ]
     },
     "execution_count": 253,
     "metadata": {},
     "output_type": "execute_result"
    }
   ],
   "source": [
    "np.sum(np.square( np.dot(X,theta) - y ) )"
   ]
  },
  {
   "cell_type": "markdown",
   "metadata": {},
   "source": [
    "## Computing Cost Function"
   ]
  },
  {
   "cell_type": "code",
   "execution_count": 254,
   "metadata": {},
   "outputs": [],
   "source": [
    "m = len(data1)\n",
    "\n",
    "#Implementing the Cost Function\n",
    "def computeCost(X,y,theta):\n",
    "    J = (1/(2*m)) *  np.sum(np.square( np.dot(X,theta) - y ) )\n",
    "    return J"
   ]
  },
  {
   "cell_type": "code",
   "execution_count": 255,
   "metadata": {},
   "outputs": [
    {
     "data": {
      "text/plain": [
       "30.79495785534583"
      ]
     },
     "execution_count": 255,
     "metadata": {},
     "output_type": "execute_result"
    }
   ],
   "source": [
    "computeCost(X,y,theta)"
   ]
  },
  {
   "cell_type": "markdown",
   "metadata": {},
   "source": [
    "## Gradient Descent Function"
   ]
  },
  {
   "cell_type": "code",
   "execution_count": 256,
   "metadata": {},
   "outputs": [
    {
     "data": {
      "text/plain": [
       "array([5.71670937e-05, 6.48896828e-04])"
      ]
     },
     "execution_count": 256,
     "metadata": {},
     "output_type": "execute_result"
    }
   ],
   "source": [
    "theta -  0.00001 *(np.dot(np.matrix.transpose(X),(np.dot(X,theta) - y)) / m )"
   ]
  },
  {
   "cell_type": "code",
   "execution_count": 272,
   "metadata": {},
   "outputs": [],
   "source": [
    "def GradientDescent(X,y,theta,alpha):\n",
    "    num_iter = 100000\n",
    "    for i in range(num_iter):\n",
    "        theta = theta -  alpha *(np.dot(np.matrix.transpose(X),(np.dot(X,theta) - y)) / m )\n",
    "        if (i % 10000 == 0):\n",
    "            print('Cost at Iteration# ' + str(i) + \" is \"+str(computeCost(X,y,theta)))\n",
    "    return theta"
   ]
  },
  {
   "cell_type": "markdown",
   "metadata": {},
   "source": [
    "## Computing Gradient Descent with One Variable"
   ]
  },
  {
   "cell_type": "code",
   "execution_count": 273,
   "metadata": {},
   "outputs": [
    {
     "name": "stdout",
     "output_type": "stream",
     "text": [
      "Cost at Iteration# 0 is 0.4991621789282699\n",
      "Cost at Iteration# 10000 is 0.1328749574184971\n",
      "Cost at Iteration# 20000 is 0.1328396234781045\n",
      "Cost at Iteration# 30000 is 0.13283961041774517\n",
      "Cost at Iteration# 40000 is 0.13283961041291772\n",
      "Cost at Iteration# 50000 is 0.13283961041291595\n",
      "Cost at Iteration# 60000 is 0.13283961041291592\n",
      "Cost at Iteration# 70000 is 0.13283961041291592\n",
      "Cost at Iteration# 80000 is 0.13283961041291595\n",
      "Cost at Iteration# 90000 is 0.13283961041291592\n"
     ]
    },
    {
     "data": {
      "text/plain": [
       "array([ 8.32763206e-17,  8.83934632e-01, -4.99195578e-02])"
      ]
     },
     "execution_count": 273,
     "metadata": {},
     "output_type": "execute_result"
    }
   ],
   "source": [
    "alpha = 0.0009\n",
    "GradientDescent(X,y,theta,alpha)"
   ]
  },
  {
   "cell_type": "code",
   "execution_count": 281,
   "metadata": {},
   "outputs": [],
   "source": [
    "theta = np.array([0,0,0])\n",
    "m = len(data2)\n",
    "X = np.ones(shape=(len(data2), 3))\n",
    "X[:,1] = data2['Size']\n",
    "X[:,2] = data2['Bedrooms']\n",
    "y = data2.values\n",
    "y = y[:,2]\n",
    "\n",
    "\n"
   ]
  },
  {
   "cell_type": "code",
   "execution_count": null,
   "metadata": {},
   "outputs": [],
   "source": [
    "X[:,1] = ( X[:,1] -  np.mean(X[:,1]) ) / (np.std(X[:,1]))\n",
    "X[:,2] = ( X[:,2] -  np.mean(X[:,2]) ) / (np.std(X[:,2]))\n",
    "y = ( y - np.mean(y) ) / np.std(y)\n",
    "\n"
   ]
  },
  {
   "cell_type": "markdown",
   "metadata": {},
   "source": [
    "## Gradient Descent with two Variables"
   ]
  },
  {
   "cell_type": "code",
   "execution_count": 275,
   "metadata": {
    "scrolled": true
   },
   "outputs": [
    {
     "name": "stdout",
     "output_type": "stream",
     "text": [
      "Cost at Iteration# 0 is 0.49167135613416413\n",
      "Cost at Iteration# 10000 is 0.13283961041291595\n",
      "Cost at Iteration# 20000 is 0.13283961041291595\n",
      "Cost at Iteration# 30000 is 0.13283961041291595\n",
      "Cost at Iteration# 40000 is 0.13283961041291595\n",
      "Cost at Iteration# 50000 is 0.13283961041291595\n",
      "Cost at Iteration# 60000 is 0.13283961041291595\n",
      "Cost at Iteration# 70000 is 0.13283961041291595\n",
      "Cost at Iteration# 80000 is 0.13283961041291595\n",
      "Cost at Iteration# 90000 is 0.13283961041291595\n"
     ]
    },
    {
     "data": {
      "text/plain": [
       "array([ 5.55805402e-17,  8.83934632e-01, -4.99195578e-02])"
      ]
     },
     "execution_count": 275,
     "metadata": {},
     "output_type": "execute_result"
    }
   ],
   "source": [
    "alpha = 0.009\n",
    "GradientDescent(X,y,theta,alpha)"
   ]
  },
  {
   "cell_type": "markdown",
   "metadata": {},
   "source": [
    "## Normal Equation Implementation"
   ]
  },
  {
   "cell_type": "code",
   "execution_count": 277,
   "metadata": {},
   "outputs": [],
   "source": [
    "def NormalEquation(X,y,theta):\n",
    "    theta = np.dot( np.linalg.inv(np.dot(np.matrix.transpose(X),X))  , np.dot(np.matrix.transpose(X),y) )\n",
    "    return theta"
   ]
  },
  {
   "cell_type": "code",
   "execution_count": null,
   "metadata": {},
   "outputs": [],
   "source": []
  }
 ],
 "metadata": {
  "kernelspec": {
   "display_name": "Python 3",
   "language": "python",
   "name": "python3"
  },
  "language_info": {
   "codemirror_mode": {
    "name": "ipython",
    "version": 3
   },
   "file_extension": ".py",
   "mimetype": "text/x-python",
   "name": "python",
   "nbconvert_exporter": "python",
   "pygments_lexer": "ipython3",
   "version": "3.7.3"
  }
 },
 "nbformat": 4,
 "nbformat_minor": 2
}
