{
 "cells": [
  {
   "cell_type": "code",
   "execution_count": 2,
   "metadata": {},
   "outputs": [],
   "source": [
    "import numpy as np\n",
    "import scipy.io\n",
    "import math"
   ]
  },
  {
   "cell_type": "code",
   "execution_count": 3,
   "metadata": {},
   "outputs": [],
   "source": [
    "def sigmoid(z):\n",
    "    return 1/(1 + np.exp(-z))\n",
    "\n",
    "def sigmoidGradient(z):\n",
    "    return np.multiply(sigmoid(z), (1 - sigmoid(z)))"
   ]
  },
  {
   "cell_type": "markdown",
   "metadata": {},
   "source": [
    "## Implementing the Cost function for neural networks"
   ]
  },
  {
   "cell_type": "code",
   "execution_count": 4,
   "metadata": {},
   "outputs": [
    {
     "name": "stdout",
     "output_type": "stream",
     "text": [
      "(5000, 400)\n",
      "(5000, 1)\n",
      "5000\n"
     ]
    }
   ],
   "source": [
    "data = scipy.io.loadmat('ex4data1.mat')\n",
    "X = data['X']\n",
    "y = data['y']\n",
    "\n",
    "print(X.shape)\n",
    "print(y.shape)\n",
    "\n",
    "m = len(X)\n",
    "print(m)"
   ]
  },
  {
   "cell_type": "code",
   "execution_count": 5,
   "metadata": {},
   "outputs": [
    {
     "name": "stdout",
     "output_type": "stream",
     "text": [
      "(25, 401)\n",
      "(10, 26)\n"
     ]
    }
   ],
   "source": [
    "weights = scipy.io.loadmat('ex4weights.mat')\n",
    "\n",
    "#Theta1 and Theta2 are random initialized weights\n",
    "Theta1 = weights['Theta1']\n",
    "Theta2 = weights['Theta2']\n",
    "\n",
    "print(Theta1.shape)\n",
    "print(Theta2.shape)\n"
   ]
  },
  {
   "cell_type": "code",
   "execution_count": 6,
   "metadata": {},
   "outputs": [
    {
     "data": {
      "text/plain": [
       "(5000, 401)"
      ]
     },
     "execution_count": 6,
     "metadata": {},
     "output_type": "execute_result"
    }
   ],
   "source": [
    "x0 = np.ones(shape=(len(X), 1))\n",
    "a1 = np.append(x0, X, axis=1)\n",
    "a1.shape"
   ]
  },
  {
   "cell_type": "code",
   "execution_count": 7,
   "metadata": {},
   "outputs": [
    {
     "data": {
      "text/plain": [
       "(5000, 26)"
      ]
     },
     "execution_count": 7,
     "metadata": {},
     "output_type": "execute_result"
    }
   ],
   "source": [
    "#Layer 2 Activations\n",
    "\n",
    "a2 = sigmoid(np.dot(a1,np.transpose(Theta1)))\n",
    "a2.shape\n",
    "\n",
    "a0 = np.ones(shape=(len(a2),1))\n",
    "a2 = np.append(a0,a2,axis=1)\n",
    "\n",
    "a2.shape\n"
   ]
  },
  {
   "cell_type": "code",
   "execution_count": 8,
   "metadata": {},
   "outputs": [
    {
     "data": {
      "text/plain": [
       "(5000, 10)"
      ]
     },
     "execution_count": 8,
     "metadata": {},
     "output_type": "execute_result"
    }
   ],
   "source": [
    "a3 = sigmoid(np.dot(a2,np.transpose(Theta2)))\n",
    "a3.shape"
   ]
  },
  {
   "cell_type": "code",
   "execution_count": 9,
   "metadata": {},
   "outputs": [
    {
     "name": "stdout",
     "output_type": "stream",
     "text": [
      "(5000, 10)\n",
      "(5000, 1)\n"
     ]
    }
   ],
   "source": [
    "print(a3.shape)\n",
    "print(y.shape)"
   ]
  },
  {
   "cell_type": "code",
   "execution_count": 10,
   "metadata": {},
   "outputs": [],
   "source": [
    "temp = np.tile(np.array([1,2,3,4,5,6,7,8,9,10]), (5000, 1 ))\n"
   ]
  },
  {
   "cell_type": "code",
   "execution_count": 11,
   "metadata": {},
   "outputs": [],
   "source": [
    "temp2 = np.tile(y, (1,10))\n"
   ]
  },
  {
   "cell_type": "code",
   "execution_count": 12,
   "metadata": {},
   "outputs": [
    {
     "data": {
      "text/plain": [
       "(5000, 10)"
      ]
     },
     "execution_count": 12,
     "metadata": {},
     "output_type": "execute_result"
    }
   ],
   "source": [
    "temp.shape"
   ]
  },
  {
   "cell_type": "code",
   "execution_count": 13,
   "metadata": {},
   "outputs": [],
   "source": [
    "\n",
    "temp.shape\n",
    "final = np.zeros((5000,10))\n"
   ]
  },
  {
   "cell_type": "code",
   "execution_count": 14,
   "metadata": {},
   "outputs": [],
   "source": [
    "for i in range(len(temp)):\n",
    "    for j in range(len(temp[i])):\n",
    "        if temp[i][j] == temp2[i][j]:\n",
    "            final[i][j] = 1\n",
    "            \n",
    "            "
   ]
  },
  {
   "cell_type": "code",
   "execution_count": 15,
   "metadata": {},
   "outputs": [],
   "source": [
    "final\n",
    "y = final"
   ]
  },
  {
   "cell_type": "code",
   "execution_count": 16,
   "metadata": {},
   "outputs": [],
   "source": [
    "a = (np.multiply( y, np.log(a3) ) + np.multiply( (1 - y), np.log(1 - a3) ))\n"
   ]
  },
  {
   "cell_type": "code",
   "execution_count": 17,
   "metadata": {},
   "outputs": [
    {
     "data": {
      "text/plain": [
       "0.2876291651613189"
      ]
     },
     "execution_count": 17,
     "metadata": {},
     "output_type": "execute_result"
    }
   ],
   "source": [
    "J = np.sum(a)/-len(y)\n",
    "J"
   ]
  },
  {
   "cell_type": "code",
   "execution_count": 18,
   "metadata": {},
   "outputs": [
    {
     "name": "stdout",
     "output_type": "stream",
     "text": [
      "(25, 400)\n",
      "(10, 25)\n"
     ]
    },
    {
     "data": {
      "text/plain": [
       "0.38376985909092365"
      ]
     },
     "execution_count": 18,
     "metadata": {},
     "output_type": "execute_result"
    }
   ],
   "source": [
    "#Adding the Regularized Parameters to the Cost Function\n",
    "\n",
    "varLambda = 1\n",
    "\n",
    "a,b = Theta1.shape\n",
    "\n",
    "c,d = Theta2.shape\n",
    "\n",
    "\n",
    "RegTheta1 = Theta1[:,1:b]\n",
    "RegTheta2 = Theta2[:,1:d]\n",
    "\n",
    "\n",
    "print(RegTheta1.shape)\n",
    "print(RegTheta2.shape)\n",
    "\n",
    "\n",
    "error = (varLambda/(2*m)) *  ( (np.sum(np.square(RegTheta1))) + (np.sum(np.square(RegTheta2))) ) \n",
    "         \n",
    "J = J + error\n",
    "J\n",
    "         "
   ]
  },
  {
   "cell_type": "code",
   "execution_count": 24,
   "metadata": {},
   "outputs": [
    {
     "data": {
      "text/plain": [
       "5000"
      ]
     },
     "execution_count": 24,
     "metadata": {},
     "output_type": "execute_result"
    }
   ],
   "source": [
    "del1 = np.zeros(Theta1.shape)\n",
    "del2 = np.zeros(Theta2.shape)\n"
   ]
  },
  {
   "cell_type": "code",
   "execution_count": 94,
   "metadata": {},
   "outputs": [
    {
     "name": "stdout",
     "output_type": "stream",
     "text": [
      "(10,)\n",
      "(401,)\n",
      "(25, 401)\n",
      "(25,)\n",
      "(26,)\n",
      "(26,)\n",
      "(26,)\n"
     ]
    },
    {
     "data": {
      "text/plain": [
       "(25,)"
      ]
     },
     "execution_count": 94,
     "metadata": {},
     "output_type": "execute_result"
    }
   ],
   "source": [
    "a1t = a1[1,:];\n",
    "a2t = a2[1,:];\n",
    "a3t = a3[1,:];\n",
    "yt = y[1,:];\n",
    "d3 = a3t - yt;\n",
    "\n",
    "\n",
    "print(a3t.shape)\n",
    "\n",
    "a1t = a1[1,:]\n",
    "print(a1t.shape)\n",
    "\n",
    "print(Theta1.shape)\n",
    "\n",
    "print(np.dot(Theta1,a1t).shape)\n",
    "\n",
    "\n",
    "temp = sigmoidGradient(np.append(np.ones(1,),np.dot(Theta1,a1t)))\n",
    "\n",
    "print(temp.shape)\n",
    "\n",
    "temp2 = np.dot(np.transpose(Theta2),d3)\n",
    "print(temp2.shape)\n",
    "\n",
    "d2 = np.multiply(temp2,temp)\n",
    "print(d2.shape)\n",
    "\n",
    "d2[1:d2.shape[0] + 1].shape\n"
   ]
  },
  {
   "cell_type": "code",
   "execution_count": 130,
   "metadata": {},
   "outputs": [
    {
     "name": "stdout",
     "output_type": "stream",
     "text": [
      "(26,)\n",
      "(10,)\n",
      "(10, 26)\n"
     ]
    }
   ],
   "source": [
    "\n",
    "print(a2t.shape)\n",
    "print(d3.shape)\n",
    "print(np.outer(d3,a2t).shape)\n"
   ]
  },
  {
   "cell_type": "code",
   "execution_count": 111,
   "metadata": {},
   "outputs": [
    {
     "name": "stdout",
     "output_type": "stream",
     "text": [
      "(5000, 26)\n"
     ]
    }
   ],
   "source": [
    "print(a2.shape)"
   ]
  },
  {
   "cell_type": "code",
   "execution_count": 117,
   "metadata": {},
   "outputs": [],
   "source": [
    "for t in range(m):\n",
    "    a1t = a1[t,:];\n",
    "    a2t = a2[t,:];\n",
    "    a3t = a3[t,:];\n",
    "    yt = y[t,:];\n",
    "    \n",
    "    d3 = a3t - yt;\n",
    "    temp = sigmoidGradient(np.append(np.ones(1,),np.dot(Theta1,a1t)))\n",
    "    temp2 = np.dot(np.transpose(Theta2),d3)\n",
    "    d2 = np.multiply(temp2,temp)\n",
    "    # removing the bias column\n",
    "    newd2 = d2[1:d2.shape[0] + 1]\n",
    "    \n",
    "    del1 =  del1 + np.outer(newd2,a1t)\n",
    "    \n",
    "    "
   ]
  },
  {
   "cell_type": "code",
   "execution_count": null,
   "metadata": {},
   "outputs": [],
   "source": []
  }
 ],
 "metadata": {
  "kernelspec": {
   "display_name": "Python 3",
   "language": "python",
   "name": "python3"
  },
  "language_info": {
   "codemirror_mode": {
    "name": "ipython",
    "version": 3
   },
   "file_extension": ".py",
   "mimetype": "text/x-python",
   "name": "python",
   "nbconvert_exporter": "python",
   "pygments_lexer": "ipython3",
   "version": "3.7.3"
  }
 },
 "nbformat": 4,
 "nbformat_minor": 2
}
