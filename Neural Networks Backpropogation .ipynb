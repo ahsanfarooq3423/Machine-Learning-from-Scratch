{
 "cells": [
  {
   "cell_type": "code",
   "execution_count": 59,
   "metadata": {},
   "outputs": [],
   "source": [
    "import numpy as np\n",
    "import scipy.io\n",
    "import math"
   ]
  },
  {
   "cell_type": "code",
   "execution_count": 60,
   "metadata": {},
   "outputs": [],
   "source": [
    "def sigmoid(z):\n",
    "    return 1/(1 + np.exp(-z))\n",
    "\n",
    "def sigmoidGradient(z):\n",
    "    return np.multiply(sigmoid(z), (1 - sigmoid(z)))"
   ]
  },
  {
   "cell_type": "markdown",
   "metadata": {},
   "source": [
    "## Implementing the Cost function for neural networks"
   ]
  },
  {
   "cell_type": "code",
   "execution_count": 61,
   "metadata": {},
   "outputs": [
    {
     "name": "stdout",
     "output_type": "stream",
     "text": [
      "(5000, 400)\n",
      "(5000, 1)\n",
      "5000\n"
     ]
    }
   ],
   "source": [
    "data = scipy.io.loadmat('ex4data1.mat')\n",
    "X = data['X']\n",
    "y = data['y']\n",
    "\n",
    "print(X.shape)\n",
    "print(y.shape)\n",
    "\n",
    "m = len(X)\n",
    "print(m)"
   ]
  },
  {
   "cell_type": "code",
   "execution_count": 62,
   "metadata": {},
   "outputs": [
    {
     "name": "stdout",
     "output_type": "stream",
     "text": [
      "(25, 401)\n",
      "(10, 26)\n"
     ]
    }
   ],
   "source": [
    "weights = scipy.io.loadmat('ex4weights.mat')\n",
    "\n",
    "#Theta1 and Theta2 are random initialized weights\n",
    "Theta1 = weights['Theta1']\n",
    "Theta2 = weights['Theta2']\n",
    "\n",
    "print(Theta1.shape)\n",
    "print(Theta2.shape)\n"
   ]
  },
  {
   "cell_type": "code",
   "execution_count": 63,
   "metadata": {},
   "outputs": [
    {
     "data": {
      "text/plain": [
       "(5000, 401)"
      ]
     },
     "execution_count": 63,
     "metadata": {},
     "output_type": "execute_result"
    }
   ],
   "source": [
    "x0 = np.ones(shape=(len(X), 1))\n",
    "a1 = np.append(x0, X, axis=1)\n",
    "a1.shape"
   ]
  },
  {
   "cell_type": "code",
   "execution_count": 64,
   "metadata": {},
   "outputs": [
    {
     "data": {
      "text/plain": [
       "(5000, 26)"
      ]
     },
     "execution_count": 64,
     "metadata": {},
     "output_type": "execute_result"
    }
   ],
   "source": [
    "#Layer 2 Activations\n",
    "\n",
    "a2 = sigmoid(np.dot(a1,np.transpose(Theta1)))\n",
    "a2.shape\n",
    "\n",
    "a0 = np.ones(shape=(len(a2),1))\n",
    "a2 = np.append(a0,a2,axis=1)\n",
    "\n",
    "a2.shape\n"
   ]
  },
  {
   "cell_type": "code",
   "execution_count": 65,
   "metadata": {},
   "outputs": [
    {
     "data": {
      "text/plain": [
       "(5000, 10)"
      ]
     },
     "execution_count": 65,
     "metadata": {},
     "output_type": "execute_result"
    }
   ],
   "source": [
    "a3 = sigmoid(np.dot(a2,np.transpose(Theta2)))\n",
    "a3.shape"
   ]
  },
  {
   "cell_type": "code",
   "execution_count": 67,
   "metadata": {},
   "outputs": [],
   "source": [
    "#The next 4 cell map the y vector into a matrix of zeros and ones\n",
    "\n",
    "temp = np.tile(np.array([1,2,3,4,5,6,7,8,9,10]), (5000, 1 ))\n"
   ]
  },
  {
   "cell_type": "code",
   "execution_count": 68,
   "metadata": {},
   "outputs": [],
   "source": [
    "temp2 = np.tile(y, (1,10))\n"
   ]
  },
  {
   "cell_type": "code",
   "execution_count": 70,
   "metadata": {},
   "outputs": [],
   "source": [
    "\n",
    "temp.shape\n",
    "final = np.zeros((5000,10))\n"
   ]
  },
  {
   "cell_type": "code",
   "execution_count": 71,
   "metadata": {},
   "outputs": [],
   "source": [
    "for i in range(len(temp)):\n",
    "    for j in range(len(temp[i])):\n",
    "        if temp[i][j] == temp2[i][j]:\n",
    "            final[i][j] = 1\n",
    "            \n",
    "            "
   ]
  },
  {
   "cell_type": "code",
   "execution_count": 72,
   "metadata": {},
   "outputs": [],
   "source": [
    "final\n",
    "y = final"
   ]
  },
  {
   "cell_type": "code",
   "execution_count": 73,
   "metadata": {},
   "outputs": [],
   "source": [
    "a = (np.multiply( y, np.log(a3) ) + np.multiply( (1 - y), np.log(1 - a3) ))\n"
   ]
  },
  {
   "cell_type": "code",
   "execution_count": 74,
   "metadata": {},
   "outputs": [
    {
     "data": {
      "text/plain": [
       "0.2876291651613189"
      ]
     },
     "execution_count": 74,
     "metadata": {},
     "output_type": "execute_result"
    }
   ],
   "source": [
    "J = np.sum(a)/-len(y)\n",
    "J"
   ]
  },
  {
   "cell_type": "code",
   "execution_count": 75,
   "metadata": {
    "scrolled": true
   },
   "outputs": [
    {
     "name": "stdout",
     "output_type": "stream",
     "text": [
      "(25, 400)\n",
      "(10, 25)\n"
     ]
    },
    {
     "data": {
      "text/plain": [
       "0.38376985909092365"
      ]
     },
     "execution_count": 75,
     "metadata": {},
     "output_type": "execute_result"
    }
   ],
   "source": [
    "#Adding the Regularized Parameters to the Cost Function\n",
    "\n",
    "varLambda = 1\n",
    "\n",
    "a,b = Theta1.shape\n",
    "\n",
    "c,d = Theta2.shape\n",
    "\n",
    "\n",
    "RegTheta1 = Theta1[:,1:b]\n",
    "RegTheta2 = Theta2[:,1:d]\n",
    "\n",
    "\n",
    "error = (varLambda/(2*m)) *  ( (np.sum(np.square(RegTheta1))) + (np.sum(np.square(RegTheta2))) ) \n",
    "         \n",
    "J = J + error\n",
    "J\n",
    "         "
   ]
  },
  {
   "cell_type": "markdown",
   "metadata": {},
   "source": [
    "## Implementing the Backpropogation Algorithm"
   ]
  },
  {
   "cell_type": "code",
   "execution_count": 76,
   "metadata": {},
   "outputs": [],
   "source": [
    "del1 = np.zeros(Theta1.shape)\n",
    "del2 = np.zeros(Theta2.shape)\n"
   ]
  },
  {
   "cell_type": "code",
   "execution_count": 79,
   "metadata": {},
   "outputs": [],
   "source": [
    "for t in range(m):\n",
    "    a1t = a1[t,:];\n",
    "    a2t = a2[t,:];\n",
    "    a3t = a3[t,:];\n",
    "    yt = y[t,:];\n",
    "    \n",
    "    d3 = a3t - yt;\n",
    "    temp = sigmoidGradient(np.append(np.ones(1,),np.dot(Theta1,a1t)))\n",
    "    temp2 = np.dot(np.transpose(Theta2),d3)\n",
    "    d2 = np.multiply(temp2,temp)\n",
    "    # removing the bias column\n",
    "    newd2 = d2[1:d2.shape[0] + 1]\n",
    "    \n",
    "    #Same as the np.dot but for 1-D numpy array\n",
    "    del1 =  del1 + np.outer(newd2,a1t)\n",
    "    del2 = del2 + np.outer(d3,a2t)\n",
    "    \n",
    "\n",
    "    \n",
    "zeros1 = np.zeros((RegTheta1.shape[0],1))\n",
    "newRegTheta1 = np.append(zeros,RegTheta1, axis =1)\n",
    "\n",
    "Theta1_grad = (1/m) * del1 + (varLambda/m) * newRegTheta1\n",
    "\n",
    "zeros2 = np.zeros((RegTheta2.shape[0],1))\n",
    "newRegTheta2 = np.append(zeros2,RegTheta2, axis = 1)\n",
    "\n",
    "Theta2_grad = (1/m) * del2 + (varLambda/m) * newRegTheta2\n"
   ]
  }
 ],
 "metadata": {
  "kernelspec": {
   "display_name": "Python 3",
   "language": "python",
   "name": "python3"
  },
  "language_info": {
   "codemirror_mode": {
    "name": "ipython",
    "version": 3
   },
   "file_extension": ".py",
   "mimetype": "text/x-python",
   "name": "python",
   "nbconvert_exporter": "python",
   "pygments_lexer": "ipython3",
   "version": "3.7.3"
  }
 },
 "nbformat": 4,
 "nbformat_minor": 2
}
