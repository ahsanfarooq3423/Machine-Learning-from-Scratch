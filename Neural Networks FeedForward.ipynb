{
 "cells": [
  {
   "cell_type": "markdown",
   "metadata": {},
   "source": [
    "### This code implements the feedforward algorithm on the given data with the given weights of handwriting digits recognition of 20 by 20 Pixels i.e 400 input features"
   ]
  },
  {
   "cell_type": "code",
   "execution_count": 2,
   "metadata": {},
   "outputs": [],
   "source": [
    "import numpy as np\n",
    "import scipy.io\n"
   ]
  },
  {
   "cell_type": "code",
   "execution_count": 3,
   "metadata": {},
   "outputs": [],
   "source": [
    "def sigmoid(z):\n",
    "    return 1/(1 + np.exp(-z))"
   ]
  },
  {
   "cell_type": "markdown",
   "metadata": {},
   "source": [
    "## Loading the Data"
   ]
  },
  {
   "cell_type": "code",
   "execution_count": 4,
   "metadata": {},
   "outputs": [],
   "source": [
    "data = scipy.io.loadmat('ex3data1.mat')\n",
    "data\n",
    "y = data['y']\n",
    "data = data['X']"
   ]
  },
  {
   "cell_type": "code",
   "execution_count": 5,
   "metadata": {
    "scrolled": true
   },
   "outputs": [
    {
     "name": "stdout",
     "output_type": "stream",
     "text": [
      "(5000, 400)\n"
     ]
    },
    {
     "data": {
      "text/plain": [
       "True"
      ]
     },
     "execution_count": 5,
     "metadata": {},
     "output_type": "execute_result"
    }
   ],
   "source": [
    "print(data.shape)\n",
    "len(data) == len(y)"
   ]
  },
  {
   "cell_type": "markdown",
   "metadata": {},
   "source": [
    "## Loading the Weight of theta for two layers"
   ]
  },
  {
   "cell_type": "code",
   "execution_count": 6,
   "metadata": {},
   "outputs": [],
   "source": [
    "weights = scipy.io.loadmat('ex3weights.mat')\n"
   ]
  },
  {
   "cell_type": "code",
   "execution_count": 7,
   "metadata": {},
   "outputs": [],
   "source": [
    "Theta1 = weights['Theta1']\n",
    "Theta2 = weights['Theta2']"
   ]
  },
  {
   "cell_type": "code",
   "execution_count": 8,
   "metadata": {},
   "outputs": [
    {
     "name": "stdout",
     "output_type": "stream",
     "text": [
      "Shape of Theta1: (25, 401)\n",
      "-------------------------\n",
      "Shappe of Theta2: (10, 26)\n"
     ]
    }
   ],
   "source": [
    "print('Shape of Theta1: ' + str(Theta1.shape))\n",
    "print('-------------------------')\n",
    "print('Shappe of Theta2: ' + str(Theta2.shape))"
   ]
  },
  {
   "cell_type": "code",
   "execution_count": 11,
   "metadata": {},
   "outputs": [
    {
     "data": {
      "text/plain": [
       "(5000, 401)"
      ]
     },
     "execution_count": 11,
     "metadata": {},
     "output_type": "execute_result"
    }
   ],
   "source": [
    "# Appending the X0 term i.e adding the column of 1's\n",
    "x0 = np.ones(shape=(len(data), 1))\n",
    "X = np.append(x0, data, axis=1)\n",
    "X.shape"
   ]
  },
  {
   "cell_type": "markdown",
   "metadata": {},
   "source": [
    "## Now implementing the Feedforward Algorithm"
   ]
  },
  {
   "cell_type": "code",
   "execution_count": 188,
   "metadata": {},
   "outputs": [
    {
     "name": "stdout",
     "output_type": "stream",
     "text": [
      "Shape of the Layer 2 Activation Matrix: (5000, 25)\n",
      "---------------------------------------------------------------\n",
      "Shape of Layers 2 Activation Matrix after the a0 term:(5000, 26)\n"
     ]
    }
   ],
   "source": [
    "z2 = np.dot(X,np.transpose(Theta1))\n",
    "a2 = sigmoid(z2)\n",
    "print('Shape of the Layer 2 Activation Matrix: ' + str(a2.shape))\n",
    "\n",
    "#Adding the Bias a0 term i.e adding the column of 1's\n",
    "a0 = np.ones(shape=(len(a2),1))\n",
    "a2 = np.append(a0,a2,axis=1)\n",
    "\n",
    "print('---------------------------------------------------------------')\n",
    "print('Shape of Layers 2 Activation Matrix after the a0 term:' + str(a2.shape))\n"
   ]
  },
  {
   "cell_type": "code",
   "execution_count": 189,
   "metadata": {},
   "outputs": [
    {
     "name": "stdout",
     "output_type": "stream",
     "text": [
      "Shape of the final Layer i.e the Hypothesis Layer:(5000, 10)\n"
     ]
    }
   ],
   "source": [
    "z3 = np.dot(a2,np.transpose(Theta2))\n",
    "a3 = sigmoid(z3)\n",
    "print('Shape of the final Layer i.e the Hypothesis Layer:' + str(a3.shape))"
   ]
  },
  {
   "cell_type": "code",
   "execution_count": 190,
   "metadata": {},
   "outputs": [],
   "source": [
    "maxInRows = np.amax(a3, axis=1)"
   ]
  },
  {
   "cell_type": "code",
   "execution_count": 191,
   "metadata": {},
   "outputs": [],
   "source": [
    "finalPredictions  = np.floor(np.dot(maxInRows,10))\n"
   ]
  },
  {
   "cell_type": "code",
   "execution_count": null,
   "metadata": {},
   "outputs": [],
   "source": []
  },
  {
   "cell_type": "code",
   "execution_count": null,
   "metadata": {},
   "outputs": [],
   "source": []
  }
 ],
 "metadata": {
  "kernelspec": {
   "display_name": "Python 3",
   "language": "python",
   "name": "python3"
  },
  "language_info": {
   "codemirror_mode": {
    "name": "ipython",
    "version": 3
   },
   "file_extension": ".py",
   "mimetype": "text/x-python",
   "name": "python",
   "nbconvert_exporter": "python",
   "pygments_lexer": "ipython3",
   "version": "3.7.3"
  }
 },
 "nbformat": 4,
 "nbformat_minor": 2
}
