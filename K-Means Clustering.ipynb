{
 "cells": [
  {
   "cell_type": "code",
   "execution_count": 41,
   "metadata": {},
   "outputs": [],
   "source": [
    "import numpy as np\n",
    "import matplotlib.pyplot as plt\n",
    "from matplotlib.pyplot import figure\n",
    "import os\n"
   ]
  },
  {
   "cell_type": "code",
   "execution_count": 42,
   "metadata": {},
   "outputs": [
    {
     "data": {
      "text/plain": [
       "105"
      ]
     },
     "execution_count": 42,
     "metadata": {},
     "output_type": "execute_result"
    }
   ],
   "source": [
    "d1 = np.loadtxt('clustering/a3-ga-cb.txt')\n",
    "\n",
    "d2 = np.loadtxt('clustering/a2-ga-cb.txt')\n",
    "\n",
    "d3 = np.loadtxt('clustering/a1-ga-cb.txt')\n",
    "\n",
    "\n",
    "data = np.concatenate((d1, d2, d3), axis=0)\n",
    "len(data)"
   ]
  },
  {
   "cell_type": "code",
   "execution_count": 44,
   "metadata": {
    "scrolled": true
   },
   "outputs": [
    {
     "name": "stderr",
     "output_type": "stream",
     "text": [
      "'c' argument looks like a single numeric RGB or RGBA sequence, which should be avoided as value-mapping will have precedence in case its length matches with 'x' & 'y'.  Please use a 2-D array with a single row if you really want to specify the same RGB or RGBA value for all points.\n"
     ]
    },
    {
     "data": {
      "image/png": "[encoded data removed]",
      "text/plain": [
       "<Figure size 432x288 with 1 Axes>"
      ]
     },
     "metadata": {
      "needs_background": "light"
     },
     "output_type": "display_data"
    }
   ],
   "source": [
    "data[:,0]\n",
    "data[:,1]\n",
    "\n",
    "\n",
    "colors = (0,0,0)\n",
    "area = np.pi*3\n",
    "\n",
    "# Plot\n",
    "plt.scatter(data[:,0], data[:,1], s=area, c=colors, alpha=0.5)\n",
    "plt.title('Scatter plot pythonspot.com')\n",
    "plt.xlabel('x')\n",
    "plt.ylabel('y')\n",
    "plt.show()\n"
   ]
  },
  {
   "cell_type": "code",
   "execution_count": 51,
   "metadata": {},
   "outputs": [
    {
     "data": {
      "text/plain": [
       "array([ 37,  12,  72,   9,  75,   5,  79,  64,  16,   1,  76,  71,   6,\n",
       "        25,  50,  20, 101,  18,  84,  11,  28,  29,  14,  50,  68,  87,\n",
       "        87,  94,  96,  86,  13,   9,   7,  63,  61,  22,  57,   1,   0,\n",
       "        60,  81,   8,  88,  13,  47,  72,  30,  71,   3,  70])"
      ]
     },
     "execution_count": 51,
     "metadata": {},
     "output_type": "execute_result"
    }
   ],
   "source": [
    "K = []\n",
    "np.random.seed(1)\n",
    "np.random.randint(low = 0 , high = len(data), size = 50)"
   ]
  },
  {
   "cell_type": "code",
   "execution_count": 191,
   "metadata": {},
   "outputs": [],
   "source": [
    "def k_Means_Clustering(K, data):\n",
    "    #Randomly initializing K clusters centroid i.e picking up from the data set\n",
    "    #np.random.seed(2)\n",
    "    rand = np.random.randint(low = 0 , high = len(data), size = K)\n",
    "    centroid = []\n",
    "    for values in rand:\n",
    "        centroid.append(data[values].tolist())\n",
    "    \n",
    "    \n",
    "    clusters_data = []\n",
    "    for i in range(len(data)):\n",
    "        distance = []\n",
    "        for j in range(K):\n",
    "            distance.append(np.linalg.norm(np.array(data[i]) - np.array(centroid[j])))\n",
    "    \n",
    "        index = distance.index(min(distance))\n",
    "        clusters_data.append(index + 1)\n",
    "    \n",
    "    \n",
    "    \n",
    "    \n",
    "    for i in range(K):\n",
    "        sum_val = 0\n",
    "        num_clusters = 0\n",
    "        for j in range(len(clusters_data)):\n",
    "            if (clusters_data[j] == i+1):\n",
    "                sum_val += data[j]\n",
    "                num_clusters += 1\n",
    "        centroid[i] = avg_val/num_clusters\n",
    "    \n",
    "    return [centroid,clusters_data]\n"
   ]
  },
  {
   "cell_type": "code",
   "execution_count": 232,
   "metadata": {},
   "outputs": [],
   "source": [
    "centroid,clusters_data = k_Means_Clustering(4,data)"
   ]
  },
  {
   "cell_type": "code",
   "execution_count": 233,
   "metadata": {},
   "outputs": [],
   "source": [
    "def compute_cost(centroid,clusters_data):\n",
    "    cost = 0\n",
    "    for i in range(len(centroid)):\n",
    "        for j in range(len(clusters_data)):\n",
    "            if (clusters_data[j] == i):\n",
    "                cost += np.linalg.norm(np.array(data[j]) - np.array(centroid[i]))\n",
    "\n",
    "    cost = cost / len(data)\n",
    "    return cost\n"
   ]
  },
  {
   "cell_type": "code",
   "execution_count": 234,
   "metadata": {},
   "outputs": [
    {
     "data": {
      "text/plain": [
       "27188.810575594718"
      ]
     },
     "execution_count": 234,
     "metadata": {},
     "output_type": "execute_result"
    }
   ],
   "source": [
    "compute_cost(centroid,clusters_data)"
   ]
  },
  {
   "cell_type": "code",
   "execution_count": null,
   "metadata": {},
   "outputs": [],
   "source": []
  }
 ],
 "metadata": {
  "kernelspec": {
   "display_name": "Python 3",
   "language": "python",
   "name": "python3"
  },
  "language_info": {
   "codemirror_mode": {
    "name": "ipython",
    "version": 3
   },
   "file_extension": ".py",
   "mimetype": "text/x-python",
   "name": "python",
   "nbconvert_exporter": "python",
   "pygments_lexer": "ipython3",
   "version": "3.7.3"
  }
 },
 "nbformat": 4,
 "nbformat_minor": 2
}
